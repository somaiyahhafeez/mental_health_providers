{
 "cells": [
  {
   "cell_type": "markdown",
   "metadata": {},
   "source": [
    "# Notebook Title"
   ]
  },
  {
   "cell_type": "markdown",
   "metadata": {},
   "source": [
    "## Setup Python and R environment\n",
    "you can ignore this section"
   ]
  },
  {
   "cell_type": "code",
   "execution_count": 62,
   "metadata": {},
   "outputs": [
    {
     "name": "stdout",
     "output_type": "stream",
     "text": [
      "The rpy2.ipython extension is already loaded. To reload it, use:\n",
      "  %reload_ext rpy2.ipython\n",
      "The autoreload extension is already loaded. To reload it, use:\n",
      "  %reload_ext autoreload\n"
     ]
    }
   ],
   "source": [
    "%load_ext rpy2.ipython\n",
    "%load_ext autoreload\n",
    "%autoreload 2\n",
    "\n",
    "%matplotlib inline  \n",
    "from matplotlib import rcParams\n",
    "rcParams['figure.figsize'] = (16, 100)\n",
    "\n",
    "import warnings\n",
    "from rpy2.rinterface import RRuntimeWarning\n",
    "warnings.filterwarnings(\"ignore\") # Ignore all warnings\n",
    "# warnings.filterwarnings(\"ignore\", category=RRuntimeWarning) # Show some warnings\n",
    "\n",
    "import pandas as pd\n",
    "import numpy as np\n",
    "import matplotlib.pyplot as plt\n",
    "from IPython.display import display, HTML"
   ]
  },
  {
   "cell_type": "code",
   "execution_count": 63,
   "metadata": {},
   "outputs": [
    {
     "data": {
      "application/javascript": [
       "// Disable auto-scrolling\n",
       "IPython.OutputArea.prototype._should_scroll = function(lines) {\n",
       "    return false;\n",
       "}\n"
      ],
      "text/plain": [
       "<IPython.core.display.Javascript object>"
      ]
     },
     "metadata": {},
     "output_type": "display_data"
    }
   ],
   "source": [
    "%%javascript\n",
    "// Disable auto-scrolling\n",
    "IPython.OutputArea.prototype._should_scroll = function(lines) {\n",
    "    return false;\n",
    "}"
   ]
  },
  {
   "cell_type": "code",
   "execution_count": 64,
   "metadata": {},
   "outputs": [],
   "source": [
    "%%R\n",
    "\n",
    "# My commonly used R imports\n",
    "\n",
    "require('tidyverse')"
   ]
  },
  {
   "cell_type": "markdown",
   "metadata": {},
   "source": [
    "## Load & Clean Data\n",
    "\n",
    "👉 Load the data along with the census connectors below (the output of the `connect-to-census.ipynb` notebook) and do any cleanup you'd like to do."
   ]
  },
  {
   "cell_type": "code",
   "execution_count": 95,
   "metadata": {},
   "outputs": [
    {
     "data": {
      "text/html": [
       "<div>\n",
       "<style scoped>\n",
       "    .dataframe tbody tr th:only-of-type {\n",
       "        vertical-align: middle;\n",
       "    }\n",
       "\n",
       "    .dataframe tbody tr th {\n",
       "        vertical-align: top;\n",
       "    }\n",
       "\n",
       "    .dataframe thead th {\n",
       "        text-align: right;\n",
       "    }\n",
       "</style>\n",
       "<table border=\"1\" class=\"dataframe\">\n",
       "  <thead>\n",
       "    <tr style=\"text-align: right;\">\n",
       "      <th></th>\n",
       "      <th>name1</th>\n",
       "      <th>name2</th>\n",
       "      <th>street1</th>\n",
       "      <th>street2</th>\n",
       "      <th>city</th>\n",
       "      <th>state</th>\n",
       "      <th>zip</th>\n",
       "      <th>phone</th>\n",
       "      <th>intake1</th>\n",
       "      <th>intake2</th>\n",
       "      <th>...</th>\n",
       "      <th>service_code_info</th>\n",
       "      <th>full_address</th>\n",
       "      <th>location</th>\n",
       "      <th>latitude</th>\n",
       "      <th>longitude</th>\n",
       "      <th>GEOID</th>\n",
       "      <th>STATE</th>\n",
       "      <th>COUNTY</th>\n",
       "      <th>TRACT</th>\n",
       "      <th>BLOCK</th>\n",
       "    </tr>\n",
       "  </thead>\n",
       "  <tbody>\n",
       "    <tr>\n",
       "      <th>0</th>\n",
       "      <td>Medstar Harbor Hospital</td>\n",
       "      <td>Behavioral Health</td>\n",
       "      <td>3001 South Hanover Street</td>\n",
       "      <td>Suite 164</td>\n",
       "      <td>Brooklyn</td>\n",
       "      <td>MD</td>\n",
       "      <td>21225</td>\n",
       "      <td>410-350-7550</td>\n",
       "      <td>NaN</td>\n",
       "      <td>NaN</td>\n",
       "      <td>...</td>\n",
       "      <td>MH * OP PHDT * PSY * ARIPI CLOZA OLANZ OLANZF ...</td>\n",
       "      <td>3001 South Hanover Street, Brooklyn, NY 21225</td>\n",
       "      <td>NaN</td>\n",
       "      <td>NaN</td>\n",
       "      <td>NaN</td>\n",
       "      <td>NaN</td>\n",
       "      <td>NaN</td>\n",
       "      <td>NaN</td>\n",
       "      <td>NaN</td>\n",
       "      <td>NaN</td>\n",
       "    </tr>\n",
       "    <tr>\n",
       "      <th>1</th>\n",
       "      <td>Astor Servs for Children and Families</td>\n",
       "      <td>Astor Day Treatment Program</td>\n",
       "      <td>516 East Tremont Avenue</td>\n",
       "      <td>NaN</td>\n",
       "      <td>Bronx</td>\n",
       "      <td>NY</td>\n",
       "      <td>10457</td>\n",
       "      <td>347-978-2450</td>\n",
       "      <td>929-285-3917 x1096</td>\n",
       "      <td>NaN</td>\n",
       "      <td>...</td>\n",
       "      <td>MH SUMH * PHDT * PH * CHLOR HALOP PERPH ANTPYC...</td>\n",
       "      <td>516 East Tremont Avenue, Bronx, NY 10457</td>\n",
       "      <td>516, East Tremont Avenue, East Tremont, The Br...</td>\n",
       "      <td>40.846700</td>\n",
       "      <td>-73.896822</td>\n",
       "      <td>3.600504e+14</td>\n",
       "      <td>36.0</td>\n",
       "      <td>5.0</td>\n",
       "      <td>39500.0</td>\n",
       "      <td>4001.0</td>\n",
       "    </tr>\n",
       "    <tr>\n",
       "      <th>2</th>\n",
       "      <td>Astor Servs for Children and Families</td>\n",
       "      <td>Highbridge Clinic</td>\n",
       "      <td>1419 Shakespeare Avenue</td>\n",
       "      <td>1st Floor</td>\n",
       "      <td>Bronx</td>\n",
       "      <td>NY</td>\n",
       "      <td>10452</td>\n",
       "      <td>718-231-3400</td>\n",
       "      <td>718-732-7080 x0</td>\n",
       "      <td>NaN</td>\n",
       "      <td>...</td>\n",
       "      <td>SA MH SUMH * OP * OMH * NSC ANTPYCH * CBT CFT ...</td>\n",
       "      <td>1419 Shakespeare Avenue, Bronx, NY 10452</td>\n",
       "      <td>1419, Shakespeare Avenue, High Bridge, The Bro...</td>\n",
       "      <td>40.842533</td>\n",
       "      <td>-73.921238</td>\n",
       "      <td>3.600502e+14</td>\n",
       "      <td>36.0</td>\n",
       "      <td>5.0</td>\n",
       "      <td>21302.0</td>\n",
       "      <td>3000.0</td>\n",
       "    </tr>\n",
       "    <tr>\n",
       "      <th>3</th>\n",
       "      <td>Astor Servs for Children and Families</td>\n",
       "      <td>Lawrence F Hickey Center</td>\n",
       "      <td>4010 Dyre Avenue</td>\n",
       "      <td>NaN</td>\n",
       "      <td>Bronx</td>\n",
       "      <td>NY</td>\n",
       "      <td>10466</td>\n",
       "      <td>845-515-3000</td>\n",
       "      <td>718-515-3000</td>\n",
       "      <td>NaN</td>\n",
       "      <td>...</td>\n",
       "      <td>MH * PHDT * PH * ANTPYCH * CBT CFT GT IPT TELE...</td>\n",
       "      <td>4010 Dyre Avenue, Bronx, NY 10466</td>\n",
       "      <td>Public School 15, 4010, Dyre Avenue, Parkside,...</td>\n",
       "      <td>40.890946</td>\n",
       "      <td>-73.830730</td>\n",
       "      <td>3.600505e+14</td>\n",
       "      <td>36.0</td>\n",
       "      <td>5.0</td>\n",
       "      <td>45600.0</td>\n",
       "      <td>2002.0</td>\n",
       "    </tr>\n",
       "    <tr>\n",
       "      <th>4</th>\n",
       "      <td>Astor Servs for Children and Families</td>\n",
       "      <td>Tilden Clinic</td>\n",
       "      <td>750 Tilden Street</td>\n",
       "      <td>NaN</td>\n",
       "      <td>Bronx</td>\n",
       "      <td>NY</td>\n",
       "      <td>10467</td>\n",
       "      <td>718-231-3400</td>\n",
       "      <td>NaN</td>\n",
       "      <td>NaN</td>\n",
       "      <td>...</td>\n",
       "      <td>SA MH SUMH * OP * OMH * ANTPYCH * CBT CFT DBT ...</td>\n",
       "      <td>750 Tilden Street, Bronx, NY 10467</td>\n",
       "      <td>750, Tilden Street, Williams Bridge, The Bronx...</td>\n",
       "      <td>40.876680</td>\n",
       "      <td>-73.862771</td>\n",
       "      <td>3.600504e+14</td>\n",
       "      <td>36.0</td>\n",
       "      <td>5.0</td>\n",
       "      <td>38000.0</td>\n",
       "      <td>4006.0</td>\n",
       "    </tr>\n",
       "  </tbody>\n",
       "</table>\n",
       "<p>5 rows × 22 columns</p>\n",
       "</div>"
      ],
      "text/plain": [
       "                                   name1                        name2  \\\n",
       "0                Medstar Harbor Hospital            Behavioral Health   \n",
       "1  Astor Servs for Children and Families  Astor Day Treatment Program   \n",
       "2  Astor Servs for Children and Families            Highbridge Clinic   \n",
       "3  Astor Servs for Children and Families     Lawrence F Hickey Center   \n",
       "4  Astor Servs for Children and Families                Tilden Clinic   \n",
       "\n",
       "                     street1    street2      city state    zip         phone  \\\n",
       "0  3001 South Hanover Street  Suite 164  Brooklyn    MD  21225  410-350-7550   \n",
       "1    516 East Tremont Avenue        NaN     Bronx    NY  10457  347-978-2450   \n",
       "2    1419 Shakespeare Avenue  1st Floor     Bronx    NY  10452  718-231-3400   \n",
       "3           4010 Dyre Avenue        NaN     Bronx    NY  10466  845-515-3000   \n",
       "4          750 Tilden Street        NaN     Bronx    NY  10467  718-231-3400   \n",
       "\n",
       "              intake1 intake2  ...  \\\n",
       "0                 NaN     NaN  ...   \n",
       "1  929-285-3917 x1096     NaN  ...   \n",
       "2     718-732-7080 x0     NaN  ...   \n",
       "3        718-515-3000     NaN  ...   \n",
       "4                 NaN     NaN  ...   \n",
       "\n",
       "                                   service_code_info  \\\n",
       "0  MH * OP PHDT * PSY * ARIPI CLOZA OLANZ OLANZF ...   \n",
       "1  MH SUMH * PHDT * PH * CHLOR HALOP PERPH ANTPYC...   \n",
       "2  SA MH SUMH * OP * OMH * NSC ANTPYCH * CBT CFT ...   \n",
       "3  MH * PHDT * PH * ANTPYCH * CBT CFT GT IPT TELE...   \n",
       "4  SA MH SUMH * OP * OMH * ANTPYCH * CBT CFT DBT ...   \n",
       "\n",
       "                                    full_address  \\\n",
       "0  3001 South Hanover Street, Brooklyn, NY 21225   \n",
       "1       516 East Tremont Avenue, Bronx, NY 10457   \n",
       "2       1419 Shakespeare Avenue, Bronx, NY 10452   \n",
       "3              4010 Dyre Avenue, Bronx, NY 10466   \n",
       "4             750 Tilden Street, Bronx, NY 10467   \n",
       "\n",
       "                                            location   latitude  longitude  \\\n",
       "0                                                NaN        NaN        NaN   \n",
       "1  516, East Tremont Avenue, East Tremont, The Br...  40.846700 -73.896822   \n",
       "2  1419, Shakespeare Avenue, High Bridge, The Bro...  40.842533 -73.921238   \n",
       "3  Public School 15, 4010, Dyre Avenue, Parkside,...  40.890946 -73.830730   \n",
       "4  750, Tilden Street, Williams Bridge, The Bronx...  40.876680 -73.862771   \n",
       "\n",
       "          GEOID  STATE  COUNTY    TRACT   BLOCK  \n",
       "0           NaN    NaN     NaN      NaN     NaN  \n",
       "1  3.600504e+14   36.0     5.0  39500.0  4001.0  \n",
       "2  3.600502e+14   36.0     5.0  21302.0  3000.0  \n",
       "3  3.600505e+14   36.0     5.0  45600.0  2002.0  \n",
       "4  3.600504e+14   36.0     5.0  38000.0  4006.0  \n",
       "\n",
       "[5 rows x 22 columns]"
      ]
     },
     "execution_count": 95,
     "metadata": {},
     "output_type": "execute_result"
    }
   ],
   "source": [
    "import pandas as pd\n",
    "\n",
    "df = pd.read_csv(\"mental_health_facilities_nyc_with_census.csv\")  \n",
    "df.head()"
   ]
  },
  {
   "cell_type": "markdown",
   "metadata": {},
   "source": [
    "## 👉 Grab Census Data"
   ]
  },
  {
   "cell_type": "markdown",
   "metadata": {},
   "source": [
    "1. loading the Census API key"
   ]
  },
  {
   "cell_type": "code",
   "execution_count": 96,
   "metadata": {},
   "outputs": [
    {
     "name": "stdout",
     "output_type": "stream",
     "text": [
      "True\n"
     ]
    }
   ],
   "source": [
    "import dotenv\n",
    "\n",
    "dotenv.load_dotenv('api.env')\n",
    "\n",
    "api_key = dotenv.get_key('api.env', 'CENSUS_API_KEY')\n",
    "\n",
    "print(api_key is not None)  \n"
   ]
  },
  {
   "cell_type": "code",
   "execution_count": 97,
   "metadata": {},
   "outputs": [
    {
     "data": {
      "text/plain": [
       "To install your API key for use in future sessions, run this function with `install = TRUE`.\n"
      ]
     },
     "metadata": {},
     "output_type": "display_data"
    }
   ],
   "source": [
    "%%R \n",
    "\n",
    "require('tidycensus')\n",
    "\n",
    "# because it an environment variable, we don't have to \n",
    "# explicitly pass this string to R, it is readable here\n",
    "# in this R cell.\n",
    "census_api_key(Sys.getenv(\"CENSUS_API_KEY\"))"
   ]
  },
  {
   "cell_type": "markdown",
   "metadata": {},
   "source": [
    "2. Decide which Census variables you want\n",
    "\n",
    "    Use <https://censusreporter.org/> to figure out which tables you want. (if censusreporter is down, check out the code in the cell below)\n",
    "\n",
    "    -   Scroll to the bottom of the page to see the tables.\n",
    "    -   If you already know the table ID, stick that in the \"Explore\" section to learn more about that table.\n",
    "\n",
    "    By default this code loads (B01003_001) which we found in censusreporter here: https://censusreporter.org/tables/B01003/\n",
    "\n",
    "    - find some other variables that you're also interested in\n",
    "    - don't forget to pick a geography like \"tract\", \"county\" or \"block group\". here is the list of [all geographies](https://walker-data.com/tidycensus/articles/basic-usage.html#geography-in-tidycensus\n",
    "    ).\n"
   ]
  },
  {
   "cell_type": "code",
   "execution_count": 98,
   "metadata": {},
   "outputs": [
    {
     "name": "stdout",
     "output_type": "stream",
     "text": [
      "# A tibble: 46 × 3\n",
      "   name         label                                                    concept\n",
      "   <chr>        <chr>                                                    <chr>  \n",
      " 1 B06011PR_001 Estimate!!Median income in the past 12 months --!!Total: MEDIAN…\n",
      " 2 B06011PR_002 Estimate!!Median income in the past 12 months --!!Total… MEDIAN…\n",
      " 3 B06011PR_003 Estimate!!Median income in the past 12 months --!!Total… MEDIAN…\n",
      " 4 B06011PR_004 Estimate!!Median income in the past 12 months --!!Total… MEDIAN…\n",
      " 5 B06011PR_005 Estimate!!Median income in the past 12 months --!!Total… MEDIAN…\n",
      " 6 B06011_001   Estimate!!Median income in the past 12 months --!!Total: MEDIAN…\n",
      " 7 B06011_002   Estimate!!Median income in the past 12 months --!!Total… MEDIAN…\n",
      " 8 B06011_003   Estimate!!Median income in the past 12 months --!!Total… MEDIAN…\n",
      " 9 B06011_004   Estimate!!Median income in the past 12 months --!!Total… MEDIAN…\n",
      "10 B06011_005   Estimate!!Median income in the past 12 months --!!Total… MEDIAN…\n",
      "11 B07011PR_001 Estimate!!Median income in the past 12 months --!!Total: MEDIAN…\n",
      "12 B07011PR_002 Estimate!!Median income in the past 12 months --!!Total… MEDIAN…\n",
      "13 B07011PR_003 Estimate!!Median income in the past 12 months --!!Total… MEDIAN…\n",
      "14 B07011PR_004 Estimate!!Median income in the past 12 months --!!Total… MEDIAN…\n",
      "15 B07011PR_005 Estimate!!Median income in the past 12 months --!!Total… MEDIAN…\n",
      "16 B07011PR_006 Estimate!!Median income in the past 12 months --!!Total… MEDIAN…\n",
      "17 B07011_001   Estimate!!Median income in the past 12 months --!!Total: MEDIAN…\n",
      "18 B07011_002   Estimate!!Median income in the past 12 months --!!Total… MEDIAN…\n",
      "19 B07011_003   Estimate!!Median income in the past 12 months --!!Total… MEDIAN…\n",
      "20 B07011_004   Estimate!!Median income in the past 12 months --!!Total… MEDIAN…\n",
      "# ℹ 26 more rows\n",
      "# ℹ Use `print(n = ...)` to see more rows\n"
     ]
    }
   ],
   "source": [
    "%%R \n",
    "\n",
    "# Finding the Census Varaibles for the ACS 5 year survey\n",
    "# Generall you'd do this in CensusReporter, but since it's down sometimes, here it is using tidycensus's load_variables function\n",
    "\n",
    "# get every single variable in the ACS5\n",
    "all_census_vars <- load_variables(2021, \"acs5\", cache = TRUE) \n",
    "\n",
    "filtered_census_vars <- all_census_vars %>% \n",
    "    filter(grepl(\"median income\", label, ignore.case = TRUE))   # filter to those containing \"median income\"\n",
    "    \n",
    "# write to CSV so we can view it in python\n",
    "filtered_census_vars %>% \n",
    "    write_csv(\"filtered_census_vars.csv\")\n",
    "\n",
    "# show the first few rows\n",
    "filtered_census_vars %>%\n",
    "    select(-geography) %>% # remove the geography column\n",
    "    print(n = 20) # print the first 20 rows"
   ]
  },
  {
   "cell_type": "code",
   "execution_count": 121,
   "metadata": {},
   "outputs": [
    {
     "data": {
      "text/plain": [
       "Getting data from the 2018-2022 5-year ACS\n"
      ]
     },
     "metadata": {},
     "output_type": "display_data"
    }
   ],
   "source": [
    "%%R\n",
    "library(tidycensus)\n",
    "library(dplyr)\n",
    "\n",
    "nyc_census_data <- get_acs(\n",
    "  geography = \"zcta\",  \n",
    "  variables = c(\n",
    "    population = \"B01003_001\",\n",
    "    med_inc = \"B19013_001\",\n",
    "    white = \"B02001_002\",\n",
    "    black = \"B02001_003\",\n",
    "    native = \"B02001_004\",\n",
    "    asian = \"B02001_005\",\n",
    "    total_race = \"B02001_001\",\n",
    "    poverty_total = \"B17001_001\",\n",
    "    poverty_below = \"B17001_002\"\n",
    "  ),\n",
    "  year = 2022,\n",
    "  survey = \"acs5\",\n",
    "  output = \"wide\"\n",
    ")\n"
   ]
  },
  {
   "cell_type": "code",
   "execution_count": 122,
   "metadata": {},
   "outputs": [],
   "source": [
    "%%R\n",
    "nyc_census_data <- nyc_census_data %>%\n",
    "  filter(GEOID %in% nyc_mental_health$zip)\n"
   ]
  },
  {
   "cell_type": "code",
   "execution_count": 123,
   "metadata": {},
   "outputs": [],
   "source": [
    "%%R\n",
    "nyc_census_data <- nyc_census_data %>%\n",
    "  mutate(\n",
    "    white_pct = 100 * whiteE / total_raceE,\n",
    "    black_pct = 100 * blackE / total_raceE,\n",
    "    native_pct = 100 * nativeE / total_raceE,\n",
    "    asian_pct = 100 * asianE / total_raceE,\n",
    "    poverty_rate_pct = 100 * poverty_belowE / poverty_totalE\n",
    "  )\n"
   ]
  },
  {
   "cell_type": "code",
   "execution_count": 124,
   "metadata": {},
   "outputs": [
    {
     "name": "stdout",
     "output_type": "stream",
     "text": [
      " [1] \"GEOID\"            \"NAME\"             \"populationE\"      \"populationM\"     \n",
      " [5] \"med_incE\"         \"med_incM\"         \"whiteE\"           \"whiteM\"          \n",
      " [9] \"blackE\"           \"blackM\"           \"nativeE\"          \"nativeM\"         \n",
      "[13] \"asianE\"           \"asianM\"           \"total_raceE\"      \"total_raceM\"     \n",
      "[17] \"poverty_totalE\"   \"poverty_totalM\"   \"poverty_belowE\"   \"poverty_belowM\"  \n",
      "[21] \"white_pct\"        \"black_pct\"        \"native_pct\"       \"asian_pct\"       \n",
      "[25] \"poverty_rate_pct\"\n"
     ]
    }
   ],
   "source": [
    "%%R\n",
    "colnames(nyc_census_data)"
   ]
  },
  {
   "cell_type": "code",
   "execution_count": 125,
   "metadata": {},
   "outputs": [],
   "source": [
    "%%R\n",
    "\n",
    "\n",
    "require('tidycensus')\n",
    "require('tidyverse')"
   ]
  },
  {
   "cell_type": "markdown",
   "metadata": {},
   "source": [
    "## 👉 Merge it with your data\n",
    "\n",
    "hint...`tidycensus` provides you data in long format you may need to pivot the census data from long to wide format before merging it with your data"
   ]
  },
  {
   "cell_type": "code",
   "execution_count": 126,
   "metadata": {},
   "outputs": [
    {
     "name": "stdout",
     "output_type": "stream",
     "text": [
      "# A tibble: 64 × 25\n",
      "   GEOID NAME     populationE populationM med_incE med_incM whiteE whiteM blackE\n",
      "   <chr> <chr>          <dbl>       <dbl>    <dbl>    <dbl>  <dbl>  <dbl>  <dbl>\n",
      " 1 10001 ZCTA5 1…       27004        1827   106509     9423  15428   1696   2355\n",
      " 2 10002 ZCTA5 1…       76518        2894    43362     5737  23951   1688   6785\n",
      " 3 10003 ZCTA5 1…       53877        2579   152863    10149  36515   2428   2899\n",
      " 4 10004 ZCTA5 1…        4579         926   232543    14137   2653    605    266\n",
      " 5 10009 ZCTA5 1…       58418        3009    83344     8153  32738   2376   4477\n",
      " 6 10010 ZCTA5 1…       32410        2681   150288    23588  21682   2315   2753\n",
      " 7 10011 ZCTA5 1…       50772        2368   145934    17135  37319   2119   2345\n",
      " 8 10014 ZCTA5 1…       29461        1737   147267    15234  24159   1514    650\n",
      " 9 10016 ZCTA5 1…       54369        3189   145864    12565  34711   2443   2603\n",
      "10 10017 ZCTA5 1…       14486        1498   139964    25136   9949   1321    461\n",
      "# ℹ 54 more rows\n",
      "# ℹ 16 more variables: blackM <dbl>, nativeE <dbl>, nativeM <dbl>,\n",
      "#   asianE <dbl>, asianM <dbl>, total_raceE <dbl>, total_raceM <dbl>,\n",
      "#   poverty_totalE <dbl>, poverty_totalM <dbl>, poverty_belowE <dbl>,\n",
      "#   poverty_belowM <dbl>, white_pct <dbl>, black_pct <dbl>, native_pct <dbl>,\n",
      "#   asian_pct <dbl>, poverty_rate_pct <dbl>\n",
      "# ℹ Use `print(n = ...)` to see more rows\n"
     ]
    }
   ],
   "source": [
    "%%R\n",
    "nyc_census_data"
   ]
  },
  {
   "cell_type": "code",
   "execution_count": 127,
   "metadata": {},
   "outputs": [
    {
     "name": "stdout",
     "output_type": "stream",
     "text": [
      "Rows: 125 Columns: 22\n",
      "── Column specification ────────────────────────────────────────────────────────\n",
      "Delimiter: \",\"\n",
      "chr (14): name1, name2, street1, street2, city, state, phone, intake1, intak...\n",
      "dbl  (6): zip, latitude, longitude, GEOID, STATE, BLOCK\n",
      "lgl  (2): intake1a, intake2a\n",
      "\n",
      "ℹ Use `spec()` to retrieve the full column specification for this data.\n",
      "ℹ Specify the column types or set `show_col_types = FALSE` to quiet this message.\n",
      "# A tibble: 124 × 22\n",
      "   name1  name2 street1 street2 city  state   zip phone intake1 intake2 intake1a\n",
      "   <chr>  <chr> <chr>   <chr>   <chr> <chr> <dbl> <chr> <chr>   <chr>   <lgl>   \n",
      " 1 Astor… Asto… 516 Ea… <NA>    Bronx NY    10457 347-… 929-28… <NA>    NA      \n",
      " 2 Astor… High… 1419 S… 1st Fl… Bronx NY    10452 718-… 718-73… <NA>    NA      \n",
      " 3 Astor… Lawr… 4010 D… <NA>    Bronx NY    10466 845-… 718-51… <NA>    NA      \n",
      " 4 Astor… Tild… 750 Ti… <NA>    Bronx NY    10467 718-… <NA>    <NA>    NA      \n",
      " 5 BASIC… <NA>  915 We… 1st Fl… Bronx NY    10459 646-… 646-22… <NA>    NA      \n",
      " 6 Bronx… Inpa… 1265 F… <NA>    Bronx NY    10456 718-… <NA>    <NA>    NA      \n",
      " 7 Bronx… Chil… 1276 F… <NA>    Bronx NY    10457 718-… 718-57… 718-57… NA      \n",
      " 8 Bronx… Outp… 1265 F… <NA>    Bronx NY    10456 718-… 718-57… 718-57… NA      \n",
      " 9 Bronx… Adul… 1276 F… <NA>    Bronx NY    10456 718-… 718-57… 718-57… NA      \n",
      "10 Bronx… BPC … 3050 W… <NA>    Bronx NY    10467 929-… <NA>    <NA>    NA      \n",
      "# ℹ 114 more rows\n",
      "# ℹ 11 more variables: intake2a <lgl>, service_code_info <chr>,\n",
      "#   full_address <chr>, location <chr>, latitude <dbl>, longitude <dbl>,\n",
      "#   GEOID <dbl>, STATE <dbl>, COUNTY <chr>, TRACT <chr>, BLOCK <dbl>\n",
      "# ℹ Use `print(n = ...)` to see more rows\n"
     ]
    }
   ],
   "source": [
    "%%R \n",
    "library(readr)\n",
    "library(dplyr)\n",
    "library(stringr)\n",
    "mental_health_facilities_with_census <- read_csv(\"mental_health_facilities_nyc_with_census.csv\")\n",
    "\n",
    "nyc_mental_health <- mental_health_facilities_with_census %>%\n",
    "  filter(str_detect(city, \"New York|Bronx|Brooklyn|Staten Island|Queens|Manhattan\") & state == \"NY\")\n",
    "\n",
    "nyc_mental_health\n",
    "\n"
   ]
  },
  {
   "cell_type": "code",
   "execution_count": 130,
   "metadata": {},
   "outputs": [
    {
     "name": "stdout",
     "output_type": "stream",
     "text": [
      "# A tibble: 6 × 48\n",
      "  GEOID.x NAME    populationE populationM med_incE med_incM whiteE whiteM blackE\n",
      "  <chr>   <chr>         <dbl>       <dbl>    <dbl>    <dbl>  <dbl>  <dbl>  <dbl>\n",
      "1 10001   ZCTA5 …       27004        1827   106509     9423  15428   1696   2355\n",
      "2 10001   ZCTA5 …       27004        1827   106509     9423  15428   1696   2355\n",
      "3 10001   ZCTA5 …       27004        1827   106509     9423  15428   1696   2355\n",
      "4 10002   ZCTA5 …       76518        2894    43362     5737  23951   1688   6785\n",
      "5 10002   ZCTA5 …       76518        2894    43362     5737  23951   1688   6785\n",
      "6 10002   ZCTA5 …       76518        2894    43362     5737  23951   1688   6785\n",
      "# ℹ 39 more variables: blackM <dbl>, nativeE <dbl>, nativeM <dbl>,\n",
      "#   asianE <dbl>, asianM <dbl>, total_raceE <dbl>, total_raceM <dbl>,\n",
      "#   poverty_totalE <dbl>, poverty_totalM <dbl>, poverty_belowE <dbl>,\n",
      "#   poverty_belowM <dbl>, white_pct <dbl>, black_pct <dbl>, native_pct <dbl>,\n",
      "#   asian_pct <dbl>, poverty_rate_pct <dbl>, ZIP <chr>, name1 <chr>,\n",
      "#   name2 <chr>, street1 <chr>, street2 <chr>, city <chr>, state <chr>,\n",
      "#   phone <chr>, intake1 <chr>, intake2 <chr>, intake1a <lgl>, …\n"
     ]
    }
   ],
   "source": [
    "%%R\n",
    "library(dplyr)\n",
    "\n",
    "nyc_census_data <- nyc_census_data %>%\n",
    "  mutate(ZIP = as.character(GEOID))  \n",
    "\n",
    "nyc_mental_health <- nyc_mental_health %>%\n",
    "  mutate(zip = as.character(zip))\n",
    "\n",
    "merged_df <- inner_join(nyc_census_data, nyc_mental_health, by = c(\"ZIP\" = \"zip\"))\n",
    "\n",
    "# Check result\n",
    "dim(merged_df)\n",
    "head(merged_df)\n"
   ]
  },
  {
   "cell_type": "code",
   "execution_count": 131,
   "metadata": {},
   "outputs": [],
   "source": [
    "%%R\n",
    "write.csv(merged_df, \"merged.csv\", row.names = FALSE)"
   ]
  },
  {
   "cell_type": "code",
   "execution_count": null,
   "metadata": {},
   "outputs": [],
   "source": []
  },
  {
   "cell_type": "code",
   "execution_count": null,
   "metadata": {},
   "outputs": [],
   "source": []
  }
 ],
 "metadata": {
  "kernelspec": {
   "display_name": "Python 3 (ipykernel)",
   "language": "python",
   "name": "python3"
  },
  "language_info": {
   "codemirror_mode": {
    "name": "ipython",
    "version": 3
   },
   "file_extension": ".py",
   "mimetype": "text/x-python",
   "name": "python",
   "nbconvert_exporter": "python",
   "pygments_lexer": "ipython3",
   "version": "3.12.7"
  }
 },
 "nbformat": 4,
 "nbformat_minor": 4
}
