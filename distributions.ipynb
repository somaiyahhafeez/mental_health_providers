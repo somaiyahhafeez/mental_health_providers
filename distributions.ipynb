{
 "cells": [
  {
   "attachments": {},
   "cell_type": "markdown",
   "metadata": {},
   "source": [
    "# 1-D Exploratory Data Analysis\n",
    "\n",
    "In this notebook, do some EDA in one dimension. Pick a column  (or a set of columns) you're interested in looking at. Calculate some summary statistics (like mean,median,min,max,sd). Then, make some plots to visualize the distribution of the data. Distirbution plots include things like histograms, boxplots, dotplots, beeswarms, and violin plots. Review [ggplot-intro](https://github.com/data4news/ggplot-intro) for examples of these kinds of distribution plots."
   ]
  },
  {
   "attachments": {},
   "cell_type": "markdown",
   "metadata": {},
   "source": [
    "### Standard Python and R imports"
   ]
  },
  {
   "cell_type": "code",
   "execution_count": 1,
   "metadata": {},
   "outputs": [],
   "source": [
    "%load_ext rpy2.ipython\n",
    "%load_ext autoreload\n",
    "%autoreload 2\n",
    "\n",
    "%matplotlib inline  \n",
    "from matplotlib import rcParams\n",
    "rcParams['figure.figsize'] = (16, 100)\n",
    "\n",
    "import warnings\n",
    "from rpy2.rinterface import RRuntimeWarning\n",
    "warnings.filterwarnings(\"ignore\") # Ignore all warnings\n",
    "# warnings.filterwarnings(\"ignore\", category=RRuntimeWarning) # Show some warnings\n",
    "\n",
    "import pandas as pd\n",
    "import numpy as np\n",
    "import matplotlib.pyplot as plt\n",
    "from IPython.display import display, HTML"
   ]
  },
  {
   "cell_type": "code",
   "execution_count": 2,
   "metadata": {},
   "outputs": [
    {
     "data": {
      "application/javascript": [
       "// Disable auto-scrolling\n",
       "IPython.OutputArea.prototype._should_scroll = function(lines) {\n",
       "    return false;\n",
       "}\n"
      ],
      "text/plain": [
       "<IPython.core.display.Javascript object>"
      ]
     },
     "metadata": {},
     "output_type": "display_data"
    }
   ],
   "source": [
    "%%javascript\n",
    "// Disable auto-scrolling\n",
    "IPython.OutputArea.prototype._should_scroll = function(lines) {\n",
    "    return false;\n",
    "}"
   ]
  },
  {
   "cell_type": "code",
   "execution_count": 3,
   "metadata": {},
   "outputs": [
    {
     "name": "stdout",
     "output_type": "stream",
     "text": [
      "── Attaching core tidyverse packages ──────────────────────── tidyverse 2.0.0 ──\n",
      "✔ dplyr     1.1.4     ✔ readr     2.1.5\n",
      "✔ forcats   1.0.0     ✔ stringr   1.5.1\n",
      "✔ ggplot2   3.5.1     ✔ tibble    3.2.1\n",
      "✔ lubridate 1.9.4     ✔ tidyr     1.3.1\n",
      "✔ purrr     1.0.4     \n",
      "── Conflicts ────────────────────────────────────────── tidyverse_conflicts() ──\n",
      "✖ dplyr::filter() masks stats::filter()\n",
      "✖ dplyr::lag()    masks stats::lag()\n",
      "ℹ Use the conflicted package (<http://conflicted.r-lib.org/>) to force all conflicts to become errors\n"
     ]
    },
    {
     "data": {
      "text/plain": [
       "Loading required package: tidyverse\n"
      ]
     },
     "metadata": {},
     "output_type": "display_data"
    }
   ],
   "source": [
    "%%R\n",
    "\n",
    "# My commonly used R imports\n",
    "\n",
    "require('tidyverse')"
   ]
  },
  {
   "attachments": {},
   "cell_type": "markdown",
   "metadata": {},
   "source": [
    "## Load the data"
   ]
  },
  {
   "cell_type": "code",
   "execution_count": 4,
   "metadata": {},
   "outputs": [
    {
     "name": "stdout",
     "output_type": "stream",
     "text": [
      "# A tibble: 4 × 13\n",
      "  name1   name2 street1 street2 city  state zip   phone intake1 intake2 intake1a\n",
      "  <chr>   <chr> <chr>   <chr>   <chr> <chr> <chr> <chr> <chr>   <chr>   <chr>   \n",
      "1 Spectr… Henr… 219 Do… <NA>    Abbe… AL    36310 800-… <NA>    <NA>    <NA>    \n",
      "2 Spectr… Henr… 1242 U… <NA>    Abbe… AL    36310 800-… 334-95… <NA>    <NA>    \n",
      "3 South … Covi… 19815 … <NA>    Anda… AL    36420 334-… 877-53… <NA>    <NA>    \n",
      "4 South … Mont… 205 Ac… <NA>    Anda… AL    36420 334-… 877-53… <NA>    <NA>    \n",
      "# ℹ 2 more variables: intake2a <lgl>, service_code_info <chr>\n"
     ]
    },
    {
     "data": {
      "text/plain": [
       "In addition: Warning message:\n",
       "One or more parsing issues, call `problems()` on your data frame for details,\n",
       "e.g.:\n",
       "  dat <- vroom(...)\n",
       "  problems(dat) \n"
      ]
     },
     "metadata": {},
     "output_type": "display_data"
    }
   ],
   "source": [
    "%%R\n",
    " \n",
    "# Import data with R\n",
    "df <- read_csv('mental-health-directory-2024.csv', show_col_types = FALSE)\n",
    "df %>% head(4)"
   ]
  },
  {
   "attachments": {},
   "cell_type": "markdown",
   "metadata": {},
   "source": [
    "## Summary statistics\n",
    "\n",
    "Pick a column or set of columns and calculate some summary statistics (like mean,median,min,max,sd).\n",
    "Hint, you may want to use `group_by` and `summarize`.\n",
    "\n"
   ]
  },
  {
   "cell_type": "code",
   "execution_count": 13,
   "metadata": {},
   "outputs": [
    {
     "name": "stdout",
     "output_type": "stream",
     "text": [
      "# A tibble: 5,161 × 3\n",
      "   state zip   count\n",
      "   <chr> <chr> <int>\n",
      " 1 AK    99503     2\n",
      " 2 AK    99504     1\n",
      " 3 AK    99507     1\n",
      " 4 AK    99508     6\n",
      " 5 AK    99518     3\n",
      " 6 AK    99519     1\n",
      " 7 AK    99573     1\n",
      " 8 AK    99574     1\n",
      " 9 AK    99577     1\n",
      "10 AK    99603     1\n",
      "# ℹ 5,151 more rows\n",
      "# ℹ Use `print(n = ...)` to see more rows\n"
     ]
    }
   ],
   "source": [
    "%%R\n",
    "df_summary <- df %>%\n",
    "  group_by(state, zip) %>%\n",
    "  summarize(\n",
    "    count = n(),\n",
    "    .groups = \"drop\"  \n",
    "  )\n",
    "\n",
    "print(df_summary)\n"
   ]
  },
  {
   "cell_type": "code",
   "execution_count": 14,
   "metadata": {},
   "outputs": [
    {
     "name": "stdout",
     "output_type": "stream",
     "text": [
      "# A tibble: 3,628 × 3\n",
      "   state city          count\n",
      "   <chr> <chr>         <int>\n",
      " 1 AK    Anchorage        14\n",
      " 2 AK    Anderson          1\n",
      " 3 AK    Barrow            3\n",
      " 4 AK    Copper Center     1\n",
      " 5 AK    Cordova           1\n",
      " 6 AK    Craig             1\n",
      " 7 AK    Eagle River       1\n",
      " 8 AK    Fairbanks         5\n",
      " 9 AK    Haines            1\n",
      "10 AK    Healy             1\n",
      "# ℹ 3,618 more rows\n",
      "# ℹ Use `print(n = ...)` to see more rows\n"
     ]
    }
   ],
   "source": [
    "%%R\n",
    "df_summary <- df %>%\n",
    "  group_by(state, city) %>%\n",
    "  summarize(\n",
    "    count = n(),\n",
    "    .groups = \"drop\"  \n",
    "  )\n",
    "\n",
    "print(df_summary)"
   ]
  },
  {
   "cell_type": "markdown",
   "metadata": {},
   "source": [
    "## 1-D visualizations (aka distributions)\n",
    "\n",
    "\n",
    "### Continus variables\n",
    "\n",
    "For each continuous variable you are interested in, use ggplot to make a plot of the distribution. You can use histograms, dot plots, box plots, beeswarms, etc...(whichever chart type you found most useful). Learn about that variable and give each chart a headline that explains what you're seeing. The chart can also show the mean or median of the variable for reference (for example for a histogram you can add a vertical line through the median)."
   ]
  },
  {
   "cell_type": "code",
   "execution_count": null,
   "metadata": {},
   "outputs": [],
   "source": []
  },
  {
   "cell_type": "code",
   "execution_count": null,
   "metadata": {},
   "outputs": [],
   "source": [
    "# code for plot 2\n",
    "# make sure to make a meaningful title and subtitle"
   ]
  },
  {
   "cell_type": "code",
   "execution_count": null,
   "metadata": {},
   "outputs": [],
   "source": [
    "# code for plot 3\n",
    "# make sure to make a meaningful title and subtitle"
   ]
  },
  {
   "cell_type": "markdown",
   "metadata": {},
   "source": [
    "### Discrete Variables\n",
    "\n",
    "If there are any discrete variables you'd like to analyze, you can do that with charts here."
   ]
  },
  {
   "cell_type": "code",
   "execution_count": 17,
   "metadata": {},
   "outputs": [
    {
     "data": {
      "image/png": "[encoded data removed]",
      "text/plain": [
       "<IPython.core.display.Image object>"
      ]
     },
     "metadata": {},
     "output_type": "display_data"
    }
   ],
   "source": [
    "%%R\n",
    "library(dplyr)\n",
    "library(ggplot2)\n",
    "\n",
    "top_zip <- df %>%\n",
    "  count(zip) %>%\n",
    "  top_n(10, n)\n",
    "\n",
    "ggplot(top_zip, aes(x = reorder(zip, n), y = n)) +\n",
    "  geom_col(fill = \"skyblue\") +\n",
    "  labs(\n",
    "    title = \"Top 10 Zip Codes Distribution\",\n",
    "    x = \"Zip Code\",\n",
    "    y = \"Frequency\"\n",
    "  ) +\n",
    "  theme(axis.text.x = element_text(angle = 45, hjust = 1))\n"
   ]
  },
  {
   "cell_type": "code",
   "execution_count": 19,
   "metadata": {},
   "outputs": [
    {
     "data": {
      "image/png": "[encoded data removed]",
      "text/plain": [
       "<IPython.core.display.Image object>"
      ]
     },
     "metadata": {},
     "output_type": "display_data"
    }
   ],
   "source": [
    "%%R\n",
    "top_city <- df %>%\n",
    "  count(city) %>%\n",
    "  top_n(10, n)\n",
    "\n",
    "ggplot(top_city, aes(x = reorder(city, n), y = n)) +\n",
    "  geom_col(fill = \"lightgreen\") +\n",
    "  labs(\n",
    "    title = \"Top 10 City Distribution\",\n",
    "    x = \"City\",\n",
    "    y = \"Frequency\"\n",
    "  ) +\n",
    "  theme(axis.text.x = element_text(angle = 45, hjust = 1))\n"
   ]
  },
  {
   "cell_type": "code",
   "execution_count": null,
   "metadata": {},
   "outputs": [],
   "source": []
  }
 ],
 "metadata": {
  "kernelspec": {
   "display_name": "Python 3 (ipykernel)",
   "language": "python",
   "name": "python3"
  },
  "language_info": {
   "codemirror_mode": {
    "name": "ipython",
    "version": 3
   },
   "file_extension": ".py",
   "mimetype": "text/x-python",
   "name": "python",
   "nbconvert_exporter": "python",
   "pygments_lexer": "ipython3",
   "version": "3.12.7"
  },
  "vscode": {
   "interpreter": {
    "hash": "34166945ca6cc351f9d38b360afe1a928411c84fd696a9e2d08d61ef3f7e4692"
   }
  }
 },
 "nbformat": 4,
 "nbformat_minor": 4
}
