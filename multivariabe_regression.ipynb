{
 "cells": [
  {
   "cell_type": "markdown",
   "id": "e2e1205f-0d62-4e31-a9cd-904595c22930",
   "metadata": {},
   "source": [
    "# standard python and R imports"
   ]
  },
  {
   "cell_type": "code",
   "execution_count": 2,
   "id": "78123c09-717d-4096-a2b2-252d894a1f4e",
   "metadata": {},
   "outputs": [
    {
     "name": "stdout",
     "output_type": "stream",
     "text": [
      "The rpy2.ipython extension is already loaded. To reload it, use:\n",
      "  %reload_ext rpy2.ipython\n",
      "The autoreload extension is already loaded. To reload it, use:\n",
      "  %reload_ext autoreload\n"
     ]
    }
   ],
   "source": [
    "%load_ext rpy2.ipython\n",
    "%load_ext autoreload\n",
    "%autoreload 2\n",
    "\n",
    "%matplotlib inline  \n",
    "from matplotlib import rcParams\n",
    "rcParams['figure.figsize'] = (16, 100)\n",
    "\n",
    "import warnings\n",
    "from rpy2.rinterface import RRuntimeWarning\n",
    "warnings.filterwarnings(\"ignore\") # Ignore all warnings\n",
    "# warnings.filterwarnings(\"ignore\", category=RRuntimeWarning) # Show some warnings\n",
    "\n",
    "import pandas as pd\n",
    "import numpy as np\n",
    "import matplotlib.pyplot as plt\n",
    "from IPython.display import display, HTML"
   ]
  },
  {
   "cell_type": "code",
   "execution_count": 3,
   "id": "5236ea05-3fed-4496-a1fc-b8a98ac46496",
   "metadata": {},
   "outputs": [
    {
     "data": {
      "application/javascript": [
       "// Disable auto-scrolling\n",
       "IPython.OutputArea.prototype._should_scroll = function(lines) {\n",
       "    return false;\n",
       "}\n"
      ],
      "text/plain": [
       "<IPython.core.display.Javascript object>"
      ]
     },
     "metadata": {},
     "output_type": "display_data"
    }
   ],
   "source": [
    "%%javascript\n",
    "// Disable auto-scrolling\n",
    "IPython.OutputArea.prototype._should_scroll = function(lines) {\n",
    "    return false;\n",
    "}"
   ]
  },
  {
   "cell_type": "code",
   "execution_count": 4,
   "id": "95d546d3-1012-4c84-8d1f-8eb5c3bdab22",
   "metadata": {},
   "outputs": [
    {
     "name": "stdout",
     "output_type": "stream",
     "text": [
      "── Attaching core tidyverse packages ──────────────────────── tidyverse 2.0.0 ──\n",
      "✔ dplyr     1.1.4     ✔ readr     2.1.5\n",
      "✔ forcats   1.0.0     ✔ stringr   1.5.1\n",
      "✔ ggplot2   3.5.1     ✔ tibble    3.2.1\n",
      "✔ lubridate 1.9.4     ✔ tidyr     1.3.1\n",
      "✔ purrr     1.0.4     \n",
      "── Conflicts ────────────────────────────────────────── tidyverse_conflicts() ──\n",
      "✖ dplyr::filter() masks stats::filter()\n",
      "✖ dplyr::lag()    masks stats::lag()\n",
      "ℹ Use the conflicted package (<http://conflicted.r-lib.org/>) to force all conflicts to become errors\n"
     ]
    },
    {
     "data": {
      "text/plain": [
       "Loading required package: tidyverse\n"
      ]
     },
     "metadata": {},
     "output_type": "display_data"
    }
   ],
   "source": [
    "%%R\n",
    "\n",
    "# My commonly used R imports\n",
    "\n",
    "require('tidyverse')"
   ]
  },
  {
   "cell_type": "code",
   "execution_count": 6,
   "id": "31a306db-f69e-4c5c-bedc-fb1803507995",
   "metadata": {},
   "outputs": [
    {
     "name": "stdout",
     "output_type": "stream",
     "text": [
      "    TRACT provider_count                                           NAME\n",
      "1    1100              1        Census Tract 11; Kings County; New York\n",
      "2    1401              2  Census Tract 14.01; New York County; New York\n",
      "3    2800              2     Census Tract 28; New York County; New York\n",
      "4    3100              1     Census Tract 31; New York County; New York\n",
      "5    4200              1     Census Tract 42; New York County; New York\n",
      "6    6100              2        Census Tract 61; Bronx County; New York\n",
      "7    6200              1        Census Tract 62; Kings County; New York\n",
      "8    7002              2  Census Tract 70.02; New York County; New York\n",
      "9    7300              2        Census Tract 73; Bronx County; New York\n",
      "10   7300              2     Census Tract 73; New York County; New York\n",
      "11   7500              2     Census Tract 75; Richmond County; New York\n",
      "12   8100              1     Census Tract 81; New York County; New York\n",
      "13   9000              1     Census Tract 90; New York County; New York\n",
      "14   9700              3     Census Tract 97; New York County; New York\n",
      "15  10200              2       Census Tract 102; Kings County; New York\n",
      "16  11100              2    Census Tract 111; New York County; New York\n",
      "17  11800              1    Census Tract 118; New York County; New York\n",
      "18  12102              1 Census Tract 121.02; New York County; New York\n",
      "19  12701              2    Census Tract 127.01; Bronx County; New York\n",
      "20  12901              2    Census Tract 129.01; Kings County; New York\n",
      "21  14500              3       Census Tract 145; Bronx County; New York\n",
      "22  15302              2 Census Tract 153.02; New York County; New York\n",
      "23  17100              1    Census Tract 171; New York County; New York\n",
      "24  17200              5    Census Tract 172; New York County; New York\n",
      "25  18700              2    Census Tract 187; New York County; New York\n",
      "26  19400              1    Census Tract 194; New York County; New York\n",
      "27  19500              1       Census Tract 195; Kings County; New York\n",
      "28  20300              1       Census Tract 203; Kings County; New York\n",
      "29  20901              1 Census Tract 209.01; New York County; New York\n",
      "30  21900              2       Census Tract 219; Bronx County; New York\n",
      "31  24300              2       Census Tract 243; Bronx County; New York\n",
      "32  24500              3    Census Tract 245; New York County; New York\n",
      "33  24700              2       Census Tract 247; Kings County; New York\n",
      "34  27301              1 Census Tract 273.01; Richmond County; New York\n",
      "35  29000              1       Census Tract 290; Kings County; New York\n",
      "36  29300              1    Census Tract 293; New York County; New York\n",
      "37  33400              4       Census Tract 334; Bronx County; New York\n",
      "38  33701              2    Census Tract 337.01; Kings County; New York\n",
      "39  36100              2       Census Tract 361; Bronx County; New York\n",
      "40  37900              3       Census Tract 379; Bronx County; New York\n",
      "41  39700              1       Census Tract 397; Bronx County; New York\n",
      "42  40000              1       Census Tract 400; Kings County; New York\n",
      "43  43100              1       Census Tract 431; Kings County; New York\n",
      "44  45600              1       Census Tract 456; Kings County; New York\n",
      "45  50700              1       Census Tract 507; Kings County; New York\n",
      "46  55200              3      Census Tract 552; Queens County; New York\n",
      "47  60800              1       Census Tract 608; Kings County; New York\n",
      "48  74200              1       Census Tract 742; Kings County; New York\n",
      "49  86000              6       Census Tract 860; Kings County; New York\n",
      "50  89800              1       Census Tract 898; Kings County; New York\n",
      "51 115800              1      Census Tract 1158; Kings County; New York\n",
      "   populationE med_incE whiteE AsianE Black_African_AmericanE\n",
      "1         1558   166250    886    296                     170\n",
      "2         3165    89873   2260    251                      96\n",
      "3         6364    52305   2433   1357                     338\n",
      "4         2667   190769   1299    704                     312\n",
      "5         5243   163750   2874   1284                     351\n",
      "6         3868    66430    360     29                    3116\n",
      "7         2729    74698   1817    371                      46\n",
      "8         3657   143183   2375    729                     267\n",
      "9         4444    28166    630     78                    1408\n",
      "10        5683   146964   4539    354                     155\n",
      "11        4032   108836   2063    174                     776\n",
      "12        6639   156265   5392    471                     133\n",
      "13        6947   149063   4909   1488                     231\n",
      "14        4565    67218   2294    759                     343\n",
      "15        5181    61643    502   3282                      59\n",
      "16        4899   102297   2577   1500                     240\n",
      "17        9510   159134   7764   1327                      82\n",
      "18        5049    54735   3341    303                     323\n",
      "19        2460    44667    347     10                     566\n",
      "20        2614   232530   1627    252                     308\n",
      "21        6425    27352    623      0                    4341\n",
      "22        5377   170804   4388    712                      11\n",
      "23        9200   173490   7834    341                     220\n",
      "24        5325    31068   1087    279                    1739\n",
      "25       10053   135716   5732    890                    1144\n",
      "26        6524    36458   1636    309                    1839\n",
      "27        3506   110594   1807     53                    1244\n",
      "28        2057   191083   1255    165                     260\n",
      "29        3388    22743    230    112                    1479\n",
      "30         949    45906     98     32                     202\n",
      "31        5062    29747    570      9                    1135\n",
      "32       15353    51190   3088    591                    2276\n",
      "33        2839    63200    834    185                    1043\n",
      "34        4223   110625   2769    856                     143\n",
      "35        3232    55545   1948    875                       0\n",
      "36        9361    43866   1676    263                     933\n",
      "37          38       NA      1      0                      36\n",
      "38        2710    61456   1266      8                    1039\n",
      "39        5672    24728    830      0                    2296\n",
      "40        6374    35431    260      0                    4375\n",
      "41        3771    35493   2392    299                     281\n",
      "42        2656    56541   1097   1301                      39\n",
      "43        4065    86530   1881    312                     317\n",
      "44        2207    83289   1204    391                      19\n",
      "45        3899    54342   3424     18                      78\n",
      "46        2990    66357    621   1287                     300\n",
      "47        3930    68349   2503    790                      88\n",
      "48        3075    71940   1391    130                    1096\n",
      "49        3101    73450      5      0                    2845\n",
      "50        2238    76726    101      0                    1406\n",
      "51        2644    62538    160     40                    1663\n",
      "   American_Indian_Alaska_NativeE poverty_totalE poverty_belowE\n",
      "1                               0           1558            134\n",
      "2                               0           3118            162\n",
      "3                               0           6319           1527\n",
      "4                               0           1532            198\n",
      "5                              11           2447            293\n",
      "6                              27           3841            495\n",
      "7                               0           2710            503\n",
      "8                               0           3657            324\n",
      "9                             141           4425           1547\n",
      "10                              0           5683            504\n",
      "11                              0           3630            582\n",
      "12                              0           6586            347\n",
      "13                              0           6947            540\n",
      "14                              0           4551            570\n",
      "15                             69           5121           1089\n",
      "16                             25           4899            674\n",
      "17                              0           9496            823\n",
      "18                              0           4964            545\n",
      "19                              0           2424            702\n",
      "20                              0           2599            158\n",
      "21                              0           6208           3080\n",
      "22                              0           5377            196\n",
      "23                              0           9031           1072\n",
      "24                              0           5319           1536\n",
      "25                              0          10005            846\n",
      "26                              5           6495           2130\n",
      "27                              8           3506            393\n",
      "28                              5           2057            172\n",
      "29                              0           3388           1262\n",
      "30                              0            922            227\n",
      "31                             18           5061           1542\n",
      "32                             44          15249           4143\n",
      "33                              0           2812            775\n",
      "34                              0           4118            397\n",
      "35                            125           3232            921\n",
      "36                            152           9361           2299\n",
      "37                              0             38              3\n",
      "38                              0           2567            125\n",
      "39                            189           5664           2942\n",
      "40                             32           6302           2581\n",
      "41                             20            878            304\n",
      "42                              0           2606            441\n",
      "43                             42           4065            317\n",
      "44                              0           2207            301\n",
      "45                             38           3899           1556\n",
      "46                              0           2940            222\n",
      "47                              0           3851            561\n",
      "48                              0           3075            399\n",
      "49                              0           3100            232\n",
      "50                              0           2238            299\n",
      "51                              0           2644            519\n",
      "   providers_per_1000\n",
      "1           0.6418485\n",
      "2           0.6319115\n",
      "3           0.3142678\n",
      "4           0.3749531\n",
      "5           0.1907305\n",
      "6           0.5170631\n",
      "7           0.3664346\n",
      "8           0.5468964\n",
      "9           0.4500450\n",
      "10          0.3519268\n",
      "11          0.4960317\n",
      "12          0.1506251\n",
      "13          0.1439470\n",
      "14          0.6571742\n",
      "15          0.3860259\n",
      "16          0.4082466\n",
      "17          0.1051525\n",
      "18          0.1980590\n",
      "19          0.8130081\n",
      "20          0.7651109\n",
      "21          0.4669261\n",
      "22          0.3719546\n",
      "23          0.1086957\n",
      "24          0.9389671\n",
      "25          0.1989456\n",
      "26          0.1532802\n",
      "27          0.2852253\n",
      "28          0.4861449\n",
      "29          0.2951594\n",
      "30          2.1074816\n",
      "31          0.3951008\n",
      "32          0.1954016\n",
      "33          0.7044734\n",
      "34          0.2367985\n",
      "35          0.3094059\n",
      "36          0.1068262\n",
      "37        105.2631579\n",
      "38          0.7380074\n",
      "39          0.3526093\n",
      "40          0.4706621\n",
      "41          0.2651816\n",
      "42          0.3765060\n",
      "43          0.2460025\n",
      "44          0.4531038\n",
      "45          0.2564760\n",
      "46          1.0033445\n",
      "47          0.2544529\n",
      "48          0.3252033\n",
      "49          1.9348597\n",
      "50          0.4468275\n",
      "51          0.3782148\n"
     ]
    }
   ],
   "source": [
    "%%R\n",
    "data = read.csv(\"provider_data.csv\")\n",
    "data"
   ]
  },
  {
   "cell_type": "markdown",
   "id": "34ba0082-2db2-4f04-a1b0-c25f2cfcd9ce",
   "metadata": {},
   "source": [
    "# single variable regression: provider_count vs population"
   ]
  },
  {
   "cell_type": "code",
   "execution_count": 8,
   "id": "40ca244d-6228-4443-b970-f6e8e51d716e",
   "metadata": {},
   "outputs": [
    {
     "name": "stdout",
     "output_type": "stream",
     "text": [
      "\n",
      "Call:\n",
      "lm(formula = provider_count ~ populationE, data = data)\n",
      "\n",
      "Residuals:\n",
      "    Min      1Q  Median      3Q     Max \n",
      "-0.8437 -0.7730  0.1498  0.2347  4.2335 \n",
      "\n",
      "Coefficients:\n",
      "             Estimate Std. Error t value Pr(>|t|)    \n",
      "(Intercept) 1.729e+00  3.031e-01   5.705 6.63e-07 ***\n",
      "populationE 1.204e-05  5.746e-05   0.210    0.835    \n",
      "---\n",
      "Signif. codes:  0 ‘***’ 0.001 ‘**’ 0.01 ‘*’ 0.05 ‘.’ 0.1 ‘ ’ 1\n",
      "\n",
      "Residual standard error: 1.075 on 49 degrees of freedom\n",
      "Multiple R-squared:  0.0008952,\tAdjusted R-squared:  -0.01949 \n",
      "F-statistic: 0.0439 on 1 and 49 DF,  p-value: 0.8349\n",
      "\n"
     ]
    }
   ],
   "source": [
    "%%R\n",
    "\n",
    "model <- lm(provider_count~populationE, data=data)\n",
    "summary(model)"
   ]
  },
  {
   "cell_type": "code",
   "execution_count": 10,
   "id": "aefa66fd-00ce-4e26-b68c-305d7aa024a3",
   "metadata": {},
   "outputs": [
    {
     "name": "stdout",
     "output_type": "stream",
     "text": [
      "`geom_smooth()` using formula = 'y ~ x'\n"
     ]
    },
    {
     "data": {
      "image/png": "[encoded data removed]",
      "text/plain": [
       "<IPython.core.display.Image object>"
      ]
     },
     "metadata": {},
     "output_type": "display_data"
    }
   ],
   "source": [
    "%%R \n",
    "\n",
    "ggplot(data) + \n",
    "\taes(x=populationE, y=provider_count) + \n",
    "\tgeom_point() +\n",
    "\tgeom_smooth(method='lm')"
   ]
  },
  {
   "cell_type": "code",
   "execution_count": 13,
   "id": "8b61b33c-ff76-4271-ad87-5452fe8fe0f3",
   "metadata": {},
   "outputs": [
    {
     "name": "stdout",
     "output_type": "stream",
     "text": [
      "   TRACT provider_count                                        NAME populationE\n",
      "24 17200              5 Census Tract 172; New York County; New York        5325\n",
      "37 33400              4    Census Tract 334; Bronx County; New York          38\n",
      "49 86000              6    Census Tract 860; Kings County; New York        3101\n",
      "   med_incE whiteE AsianE Black_African_AmericanE\n",
      "24    31068   1087    279                    1739\n",
      "37       NA      1      0                      36\n",
      "49    73450      5      0                    2845\n",
      "   American_Indian_Alaska_NativeE poverty_totalE poverty_belowE\n",
      "24                              0           5319           1536\n",
      "37                              0             38              3\n",
      "49                              0           3100            232\n",
      "   providers_per_1000\n",
      "24          0.9389671\n",
      "37        105.2631579\n",
      "49          1.9348597\n"
     ]
    }
   ],
   "source": [
    "%%R\n",
    "outlier <- data[data$provider_count >= 4.0, ]\n",
    "print(outlier)"
   ]
  },
  {
   "cell_type": "markdown",
   "id": "d5856f2a-b937-4feb-a965-9b19b3037e99",
   "metadata": {},
   "source": [
    "### Census Tract 33400 in Bronx which has a population of 38 has 4 providers.\n",
    "### What's up with that?"
   ]
  },
  {
   "cell_type": "code",
   "execution_count": null,
   "id": "ace09eb1-b7ba-4d01-916f-653a03f331c4",
   "metadata": {},
   "outputs": [],
   "source": []
  }
 ],
 "metadata": {
  "kernelspec": {
   "display_name": "Python 3 (ipykernel)",
   "language": "python",
   "name": "python3"
  },
  "language_info": {
   "codemirror_mode": {
    "name": "ipython",
    "version": 3
   },
   "file_extension": ".py",
   "mimetype": "text/x-python",
   "name": "python",
   "nbconvert_exporter": "python",
   "pygments_lexer": "ipython3",
   "version": "3.12.7"
  }
 },
 "nbformat": 4,
 "nbformat_minor": 5
}
